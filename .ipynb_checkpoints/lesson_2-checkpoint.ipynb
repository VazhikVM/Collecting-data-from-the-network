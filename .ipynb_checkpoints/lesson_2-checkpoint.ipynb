{
 "cells": [
  {
   "cell_type": "code",
   "execution_count": 1,
   "id": "adjacent-repair",
   "metadata": {},
   "outputs": [],
   "source": [
    "import requests\n",
    "from lxml import html\n",
    "import pandas as pd"
   ]
  },
  {
   "cell_type": "code",
   "execution_count": 2,
   "id": "overall-timber",
   "metadata": {},
   "outputs": [
    {
     "data": {
      "text/plain": [
       "200"
      ]
     },
     "execution_count": 2,
     "metadata": {},
     "output_type": "execute_result"
    }
   ],
   "source": [
    "url = 'https://books.toscrape.com/'\n",
    "r = requests.get(url)\n",
    "r.status_code"
   ]
  },
  {
   "cell_type": "code",
   "execution_count": 3,
   "id": "strong-hungary",
   "metadata": {},
   "outputs": [],
   "source": [
    "root = html.fromstring(r.content)"
   ]
  },
  {
   "cell_type": "code",
   "execution_count": 4,
   "id": "43bfe35c",
   "metadata": {
    "scrolled": true
   },
   "outputs": [],
   "source": [
    "count_page = root.xpath(\"//strong/text()\")[0]"
   ]
  },
  {
   "cell_type": "code",
   "execution_count": 5,
   "id": "normal-vacuum",
   "metadata": {
    "scrolled": true
   },
   "outputs": [
    {
     "name": "stdout",
     "output_type": "stream",
     "text": [
      "Страница 1 готова\n",
      "Страница 2 готова\n",
      "Страница 3 готова\n",
      "Страница 4 готова\n",
      "Страница 5 готова\n",
      "Страница 6 готова\n",
      "Страница 7 готова\n",
      "Страница 8 готова\n",
      "Страница 9 готова\n",
      "Страница 10 готова\n",
      "Страница 11 готова\n",
      "Страница 12 готова\n",
      "Страница 13 готова\n",
      "Страница 14 готова\n",
      "Страница 15 готова\n",
      "Страница 16 готова\n",
      "Страница 17 готова\n",
      "Страница 18 готова\n",
      "Страница 19 готова\n",
      "Страница 20 готова\n",
      "Страница 21 готова\n",
      "Страница 22 готова\n",
      "Страница 23 готова\n",
      "Страница 24 готова\n",
      "Страница 25 готова\n",
      "Страница 26 готова\n",
      "Страница 27 готова\n",
      "Страница 28 готова\n",
      "Страница 29 готова\n",
      "Страница 30 готова\n",
      "Страница 31 готова\n",
      "Страница 32 готова\n",
      "Страница 33 готова\n",
      "Страница 34 готова\n",
      "Страница 35 готова\n",
      "Страница 36 готова\n",
      "Страница 37 готова\n",
      "Страница 38 готова\n",
      "Страница 39 готова\n",
      "Страница 40 готова\n",
      "Страница 41 готова\n",
      "Страница 42 готова\n",
      "Страница 43 готова\n",
      "Страница 44 готова\n",
      "Страница 45 готова\n",
      "Страница 46 готова\n",
      "Страница 47 готова\n",
      "Страница 48 готова\n",
      "Страница 49 готова\n",
      "Страница 50 готова\n"
     ]
    }
   ],
   "source": [
    "all_books = []\n",
    "for i in range(1, int(int(count_page)/20) + 1):\n",
    "    resp = requests.get(f'https://books.toscrape.com/catalogue/page-{i}.html')\n",
    "    root_page = html.fromstring(resp.content)\n",
    "    articles = root_page.xpath(\"//article\")\n",
    "    for article in articles:\n",
    "        a = {'title': '', 'image': '', 'price': ''}\n",
    "        a['title'] = article.xpath(\".//h3/a/@title\")[0]\n",
    "        a['image'] = 'https://books.toscrape.com/' + article.xpath(\".//div[@class='image_container']/a/img/@src\")[0]\n",
    "        a['price'] = article.xpath(\".//p[@class='price_color']/text()\")[0]\n",
    "\n",
    "        all_books.append(a)\n",
    "    print(f'Страница {i} готова')"
   ]
  },
  {
   "cell_type": "code",
   "execution_count": 6,
   "id": "korean-dressing",
   "metadata": {},
   "outputs": [
    {
     "data": {
      "text/html": [
       "<div>\n",
       "<style scoped>\n",
       "    .dataframe tbody tr th:only-of-type {\n",
       "        vertical-align: middle;\n",
       "    }\n",
       "\n",
       "    .dataframe tbody tr th {\n",
       "        vertical-align: top;\n",
       "    }\n",
       "\n",
       "    .dataframe thead th {\n",
       "        text-align: right;\n",
       "    }\n",
       "</style>\n",
       "<table border=\"1\" class=\"dataframe\">\n",
       "  <thead>\n",
       "    <tr style=\"text-align: right;\">\n",
       "      <th></th>\n",
       "      <th>title</th>\n",
       "      <th>image</th>\n",
       "      <th>price</th>\n",
       "    </tr>\n",
       "  </thead>\n",
       "  <tbody>\n",
       "    <tr>\n",
       "      <th>0</th>\n",
       "      <td>A Light in the Attic</td>\n",
       "      <td>https://books.toscrape.com/../media/cache/2c/d...</td>\n",
       "      <td>£51.77</td>\n",
       "    </tr>\n",
       "    <tr>\n",
       "      <th>1</th>\n",
       "      <td>Tipping the Velvet</td>\n",
       "      <td>https://books.toscrape.com/../media/cache/26/0...</td>\n",
       "      <td>£53.74</td>\n",
       "    </tr>\n",
       "    <tr>\n",
       "      <th>2</th>\n",
       "      <td>Soumission</td>\n",
       "      <td>https://books.toscrape.com/../media/cache/3e/e...</td>\n",
       "      <td>£50.10</td>\n",
       "    </tr>\n",
       "    <tr>\n",
       "      <th>3</th>\n",
       "      <td>Sharp Objects</td>\n",
       "      <td>https://books.toscrape.com/../media/cache/32/5...</td>\n",
       "      <td>£47.82</td>\n",
       "    </tr>\n",
       "    <tr>\n",
       "      <th>4</th>\n",
       "      <td>Sapiens: A Brief History of Humankind</td>\n",
       "      <td>https://books.toscrape.com/../media/cache/be/a...</td>\n",
       "      <td>£54.23</td>\n",
       "    </tr>\n",
       "    <tr>\n",
       "      <th>...</th>\n",
       "      <td>...</td>\n",
       "      <td>...</td>\n",
       "      <td>...</td>\n",
       "    </tr>\n",
       "    <tr>\n",
       "      <th>995</th>\n",
       "      <td>Alice in Wonderland (Alice's Adventures in Won...</td>\n",
       "      <td>https://books.toscrape.com/../media/cache/96/e...</td>\n",
       "      <td>£55.53</td>\n",
       "    </tr>\n",
       "    <tr>\n",
       "      <th>996</th>\n",
       "      <td>Ajin: Demi-Human, Volume 1 (Ajin: Demi-Human #1)</td>\n",
       "      <td>https://books.toscrape.com/../media/cache/09/7...</td>\n",
       "      <td>£57.06</td>\n",
       "    </tr>\n",
       "    <tr>\n",
       "      <th>997</th>\n",
       "      <td>A Spy's Devotion (The Regency Spies of London #1)</td>\n",
       "      <td>https://books.toscrape.com/../media/cache/1b/5...</td>\n",
       "      <td>£16.97</td>\n",
       "    </tr>\n",
       "    <tr>\n",
       "      <th>998</th>\n",
       "      <td>1st to Die (Women's Murder Club #1)</td>\n",
       "      <td>https://books.toscrape.com/../media/cache/2b/4...</td>\n",
       "      <td>£53.98</td>\n",
       "    </tr>\n",
       "    <tr>\n",
       "      <th>999</th>\n",
       "      <td>1,000 Places to See Before You Die</td>\n",
       "      <td>https://books.toscrape.com/../media/cache/d7/0...</td>\n",
       "      <td>£26.08</td>\n",
       "    </tr>\n",
       "  </tbody>\n",
       "</table>\n",
       "<p>1000 rows × 3 columns</p>\n",
       "</div>"
      ],
      "text/plain": [
       "                                                 title  \\\n",
       "0                                 A Light in the Attic   \n",
       "1                                   Tipping the Velvet   \n",
       "2                                           Soumission   \n",
       "3                                        Sharp Objects   \n",
       "4                Sapiens: A Brief History of Humankind   \n",
       "..                                                 ...   \n",
       "995  Alice in Wonderland (Alice's Adventures in Won...   \n",
       "996   Ajin: Demi-Human, Volume 1 (Ajin: Demi-Human #1)   \n",
       "997  A Spy's Devotion (The Regency Spies of London #1)   \n",
       "998                1st to Die (Women's Murder Club #1)   \n",
       "999                 1,000 Places to See Before You Die   \n",
       "\n",
       "                                                 image   price  \n",
       "0    https://books.toscrape.com/../media/cache/2c/d...  £51.77  \n",
       "1    https://books.toscrape.com/../media/cache/26/0...  £53.74  \n",
       "2    https://books.toscrape.com/../media/cache/3e/e...  £50.10  \n",
       "3    https://books.toscrape.com/../media/cache/32/5...  £47.82  \n",
       "4    https://books.toscrape.com/../media/cache/be/a...  £54.23  \n",
       "..                                                 ...     ...  \n",
       "995  https://books.toscrape.com/../media/cache/96/e...  £55.53  \n",
       "996  https://books.toscrape.com/../media/cache/09/7...  £57.06  \n",
       "997  https://books.toscrape.com/../media/cache/1b/5...  £16.97  \n",
       "998  https://books.toscrape.com/../media/cache/2b/4...  £53.98  \n",
       "999  https://books.toscrape.com/../media/cache/d7/0...  £26.08  \n",
       "\n",
       "[1000 rows x 3 columns]"
      ]
     },
     "execution_count": 6,
     "metadata": {},
     "output_type": "execute_result"
    }
   ],
   "source": [
    "catalog_book = pd.DataFrame(all_books)\n",
    "catalog_book"
   ]
  },
  {
   "cell_type": "code",
   "execution_count": null,
   "id": "protected-correlation",
   "metadata": {},
   "outputs": [],
   "source": []
  }
 ],
 "metadata": {
  "kernelspec": {
   "display_name": "Python 3 (ipykernel)",
   "language": "python",
   "name": "python3"
  },
  "language_info": {
   "codemirror_mode": {
    "name": "ipython",
    "version": 3
   },
   "file_extension": ".py",
   "mimetype": "text/x-python",
   "name": "python",
   "nbconvert_exporter": "python",
   "pygments_lexer": "ipython3",
   "version": "3.9.7"
  }
 },
 "nbformat": 4,
 "nbformat_minor": 5
}

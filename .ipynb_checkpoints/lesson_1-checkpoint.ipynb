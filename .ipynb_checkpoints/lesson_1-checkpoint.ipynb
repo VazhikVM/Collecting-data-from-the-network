{
 "cells": [
  {
   "cell_type": "code",
   "execution_count": 1,
   "id": "acabd43c-ce5e-4875-bb23-2b37656d49de",
   "metadata": {},
   "outputs": [],
   "source": [
    "import requests\n",
    "from bs4 import BeautifulSoup\n",
    "import pandas as pd"
   ]
  },
  {
   "cell_type": "code",
   "execution_count": 2,
   "id": "8ac28b3f-f19b-4873-bd06-d4246174eb4a",
   "metadata": {},
   "outputs": [],
   "source": [
    "resp = requests.get('https://books.toscrape.com/')"
   ]
  },
  {
   "cell_type": "code",
   "execution_count": 3,
   "id": "295f6838-c6c5-476c-8095-c4389db0483e",
   "metadata": {},
   "outputs": [
    {
     "data": {
      "text/plain": [
       "<Response [200]>"
      ]
     },
     "execution_count": 3,
     "metadata": {},
     "output_type": "execute_result"
    }
   ],
   "source": [
    "resp"
   ]
  },
  {
   "cell_type": "code",
   "execution_count": 4,
   "id": "84237b2e-e70f-41be-8897-979a412d8cb4",
   "metadata": {},
   "outputs": [],
   "source": [
    "soup = BeautifulSoup(resp.text, 'xml')"
   ]
  },
  {
   "cell_type": "code",
   "execution_count": 5,
   "id": "cd13c1c9-61f1-4866-bdcc-6e1c67c0acca",
   "metadata": {},
   "outputs": [],
   "source": [
    "count_page = soup.find('form', class_=\"form-horizontal\").find('strong').text"
   ]
  },
  {
   "cell_type": "code",
   "execution_count": 15,
   "id": "c47a6d32-b067-46cb-b3a1-9f403a3d94cc",
   "metadata": {
    "scrolled": true
   },
   "outputs": [
    {
     "name": "stdout",
     "output_type": "stream",
     "text": [
      "Старница 1 готова\n",
      "Старница 2 готова\n",
      "Старница 3 готова\n",
      "Старница 4 готова\n",
      "Старница 5 готова\n",
      "Старница 6 готова\n",
      "Старница 7 готова\n",
      "Старница 8 готова\n",
      "Старница 9 готова\n",
      "Старница 10 готова\n",
      "Старница 11 готова\n",
      "Старница 12 готова\n",
      "Старница 13 готова\n",
      "Старница 14 готова\n",
      "Старница 15 готова\n",
      "Старница 16 готова\n",
      "Старница 17 готова\n",
      "Старница 18 готова\n",
      "Старница 19 готова\n",
      "Старница 20 готова\n",
      "Старница 21 готова\n",
      "Старница 22 готова\n",
      "Старница 23 готова\n",
      "Старница 24 готова\n",
      "Старница 25 готова\n",
      "Старница 26 готова\n",
      "Старница 27 готова\n",
      "Старница 28 готова\n",
      "Старница 29 готова\n",
      "Старница 30 готова\n",
      "Старница 31 готова\n",
      "Старница 32 готова\n",
      "Старница 33 готова\n",
      "Старница 34 готова\n",
      "Старница 35 готова\n",
      "Старница 36 готова\n",
      "Старница 37 готова\n",
      "Старница 38 готова\n",
      "Старница 39 готова\n",
      "Старница 40 готова\n",
      "Старница 41 готова\n",
      "Старница 42 готова\n",
      "Старница 43 готова\n",
      "Старница 44 готова\n",
      "Старница 45 готова\n",
      "Старница 46 готова\n",
      "Старница 47 готова\n",
      "Старница 48 готова\n",
      "Старница 49 готова\n",
      "Старница 50 готова\n"
     ]
    }
   ],
   "source": [
    "books = []\n",
    "for i in range(1, int(int(count_page) / 20 + 1)):\n",
    "    resp = requests.get(f'https://books.toscrape.com/catalogue/page-{i}.html')\n",
    "    card = soup.find_all('article', class_=\"product_pod\")\n",
    "    for j in range(len(card)):\n",
    "        a = {'name_book': '', 'book_url': '', 'price_book': ''}\n",
    "        a['name_book'] = card[j].find('h3').find('a').text\n",
    "        a['book_url'] = card[j].find('h3').find('a').get('href')\n",
    "        a['price_book'] = card[j].find('p', class_='price_color').text[2:]\n",
    "        books.append(a)\n",
    "    print(f'Старница {i} готова')"
   ]
  },
  {
   "cell_type": "code",
   "execution_count": 16,
   "id": "c4aae37d",
   "metadata": {},
   "outputs": [],
   "source": [
    "catalog_books = pd.DataFrame(books)"
   ]
  },
  {
   "cell_type": "code",
   "execution_count": 17,
   "id": "1354f880",
   "metadata": {},
   "outputs": [
    {
     "data": {
      "text/html": [
       "<div>\n",
       "<style scoped>\n",
       "    .dataframe tbody tr th:only-of-type {\n",
       "        vertical-align: middle;\n",
       "    }\n",
       "\n",
       "    .dataframe tbody tr th {\n",
       "        vertical-align: top;\n",
       "    }\n",
       "\n",
       "    .dataframe thead th {\n",
       "        text-align: right;\n",
       "    }\n",
       "</style>\n",
       "<table border=\"1\" class=\"dataframe\">\n",
       "  <thead>\n",
       "    <tr style=\"text-align: right;\">\n",
       "      <th></th>\n",
       "      <th>name_book</th>\n",
       "      <th>book_url</th>\n",
       "      <th>price_book</th>\n",
       "    </tr>\n",
       "  </thead>\n",
       "  <tbody>\n",
       "    <tr>\n",
       "      <th>0</th>\n",
       "      <td>A Light in the ...</td>\n",
       "      <td>catalogue/a-light-in-the-attic_1000/index.html</td>\n",
       "      <td>51.77</td>\n",
       "    </tr>\n",
       "    <tr>\n",
       "      <th>1</th>\n",
       "      <td>Tipping the Velvet</td>\n",
       "      <td>catalogue/tipping-the-velvet_999/index.html</td>\n",
       "      <td>53.74</td>\n",
       "    </tr>\n",
       "    <tr>\n",
       "      <th>2</th>\n",
       "      <td>Soumission</td>\n",
       "      <td>catalogue/soumission_998/index.html</td>\n",
       "      <td>50.10</td>\n",
       "    </tr>\n",
       "    <tr>\n",
       "      <th>3</th>\n",
       "      <td>Sharp Objects</td>\n",
       "      <td>catalogue/sharp-objects_997/index.html</td>\n",
       "      <td>47.82</td>\n",
       "    </tr>\n",
       "    <tr>\n",
       "      <th>4</th>\n",
       "      <td>Sapiens: A Brief History ...</td>\n",
       "      <td>catalogue/sapiens-a-brief-history-of-humankind...</td>\n",
       "      <td>54.23</td>\n",
       "    </tr>\n",
       "    <tr>\n",
       "      <th>...</th>\n",
       "      <td>...</td>\n",
       "      <td>...</td>\n",
       "      <td>...</td>\n",
       "    </tr>\n",
       "    <tr>\n",
       "      <th>995</th>\n",
       "      <td>Our Band Could Be ...</td>\n",
       "      <td>catalogue/our-band-could-be-your-life-scenes-f...</td>\n",
       "      <td>57.25</td>\n",
       "    </tr>\n",
       "    <tr>\n",
       "      <th>996</th>\n",
       "      <td>Olio</td>\n",
       "      <td>catalogue/olio_984/index.html</td>\n",
       "      <td>23.88</td>\n",
       "    </tr>\n",
       "    <tr>\n",
       "      <th>997</th>\n",
       "      <td>Mesaerion: The Best Science ...</td>\n",
       "      <td>catalogue/mesaerion-the-best-science-fiction-s...</td>\n",
       "      <td>37.59</td>\n",
       "    </tr>\n",
       "    <tr>\n",
       "      <th>998</th>\n",
       "      <td>Libertarianism for Beginners</td>\n",
       "      <td>catalogue/libertarianism-for-beginners_982/ind...</td>\n",
       "      <td>51.33</td>\n",
       "    </tr>\n",
       "    <tr>\n",
       "      <th>999</th>\n",
       "      <td>It's Only the Himalayas</td>\n",
       "      <td>catalogue/its-only-the-himalayas_981/index.html</td>\n",
       "      <td>45.17</td>\n",
       "    </tr>\n",
       "  </tbody>\n",
       "</table>\n",
       "<p>1000 rows × 3 columns</p>\n",
       "</div>"
      ],
      "text/plain": [
       "                           name_book  \\\n",
       "0                 A Light in the ...   \n",
       "1                 Tipping the Velvet   \n",
       "2                         Soumission   \n",
       "3                      Sharp Objects   \n",
       "4       Sapiens: A Brief History ...   \n",
       "..                               ...   \n",
       "995            Our Band Could Be ...   \n",
       "996                             Olio   \n",
       "997  Mesaerion: The Best Science ...   \n",
       "998     Libertarianism for Beginners   \n",
       "999          It's Only the Himalayas   \n",
       "\n",
       "                                              book_url price_book  \n",
       "0       catalogue/a-light-in-the-attic_1000/index.html      51.77  \n",
       "1          catalogue/tipping-the-velvet_999/index.html      53.74  \n",
       "2                  catalogue/soumission_998/index.html      50.10  \n",
       "3               catalogue/sharp-objects_997/index.html      47.82  \n",
       "4    catalogue/sapiens-a-brief-history-of-humankind...      54.23  \n",
       "..                                                 ...        ...  \n",
       "995  catalogue/our-band-could-be-your-life-scenes-f...      57.25  \n",
       "996                      catalogue/olio_984/index.html      23.88  \n",
       "997  catalogue/mesaerion-the-best-science-fiction-s...      37.59  \n",
       "998  catalogue/libertarianism-for-beginners_982/ind...      51.33  \n",
       "999    catalogue/its-only-the-himalayas_981/index.html      45.17  \n",
       "\n",
       "[1000 rows x 3 columns]"
      ]
     },
     "execution_count": 17,
     "metadata": {},
     "output_type": "execute_result"
    }
   ],
   "source": [
    "catalog_books"
   ]
  },
  {
   "cell_type": "code",
   "execution_count": null,
   "id": "3131359c",
   "metadata": {},
   "outputs": [],
   "source": []
  }
 ],
 "metadata": {
  "kernelspec": {
   "display_name": "Python 3 (ipykernel)",
   "language": "python",
   "name": "python3"
  },
  "language_info": {
   "codemirror_mode": {
    "name": "ipython",
    "version": 3
   },
   "file_extension": ".py",
   "mimetype": "text/x-python",
   "name": "python",
   "nbconvert_exporter": "python",
   "pygments_lexer": "ipython3",
   "version": "3.9.7"
  }
 },
 "nbformat": 4,
 "nbformat_minor": 5
}

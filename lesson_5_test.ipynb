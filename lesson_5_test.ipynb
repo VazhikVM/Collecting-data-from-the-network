{
 "cells": [
  {
   "cell_type": "code",
   "execution_count": 63,
   "id": "e0bbb2c4",
   "metadata": {},
   "outputs": [],
   "source": [
    "import requests\n",
    "from lxml import html"
   ]
  },
  {
   "cell_type": "code",
   "execution_count": 64,
   "id": "27afba73",
   "metadata": {},
   "outputs": [],
   "source": [
    "resp = requests.get('https://scrapingclub.com/exercise/list_basic')"
   ]
  },
  {
   "cell_type": "code",
   "execution_count": 65,
   "id": "a9c4ddee",
   "metadata": {},
   "outputs": [],
   "source": [
    "root = html.fromstring(resp.content)"
   ]
  },
  {
   "cell_type": "code",
   "execution_count": null,
   "id": "0fa8723d",
   "metadata": {},
   "outputs": [],
   "source": []
  },
  {
   "cell_type": "code",
   "execution_count": 69,
   "id": "4d22ee69",
   "metadata": {},
   "outputs": [],
   "source": [
    "card = root.xpath(\"//div[@class='card']\")"
   ]
  },
  {
   "cell_type": "code",
   "execution_count": 73,
   "id": "11bba5b8",
   "metadata": {},
   "outputs": [
    {
     "data": {
      "text/plain": [
       "[<Element a at 0x2330b2ff040>]"
      ]
     },
     "execution_count": 73,
     "metadata": {},
     "output_type": "execute_result"
    }
   ],
   "source": [
    "card[0].xpath(\".//h4[@class='card-title']/a\")"
   ]
  },
  {
   "cell_type": "code",
   "execution_count": 50,
   "id": "72b0e100",
   "metadata": {},
   "outputs": [
    {
     "data": {
      "text/plain": [
       "['Short Lace Dress']"
      ]
     },
     "execution_count": 50,
     "metadata": {},
     "output_type": "execute_result"
    }
   ],
   "source": [
    "card[8].xpath(\".//h4[@class='card-title']/a/text()\")"
   ]
  },
  {
   "cell_type": "code",
   "execution_count": 41,
   "id": "9adf5612",
   "metadata": {
    "collapsed": true
   },
   "outputs": [
    {
     "name": "stdout",
     "output_type": "stream",
     "text": [
      "<Element div at 0x2330893dcc0>\n",
      "/static/img/90008-E.jpg Short Dress $24.99\n",
      "<Element div at 0x2330893dc20>\n",
      "/static/img/96436-A.jpg Patterned Slacks $29.99\n",
      "<Element div at 0x2330893d860>\n",
      "/static/img/93926-B.jpg Short Chiffon Dress $49.99\n",
      "<Element div at 0x23308924450>\n",
      "/static/img/90882-B.jpg Off-the-shoulder Dress $59.99\n",
      "<Element div at 0x23308c918b0>\n",
      "/static/img/93756-C.jpg V-neck Top $24.99\n",
      "<Element div at 0x23308cd02c0>\n",
      "/static/img/93926-C.jpg Short Chiffon Dress $49.99\n",
      "<Element div at 0x23308cd0310>\n",
      "/static/img/93756-B.jpg V-neck Top $24.99\n",
      "<Element div at 0x23308cd0270>\n",
      "/static/img/93756-D.jpg V-neck Top $24.99\n",
      "<Element div at 0x23308cd0400>\n",
      "/static/img/96643-A.jpg Short Lace Dress $59.99\n"
     ]
    }
   ],
   "source": [
    "for item in card:\n",
    "    print(item)\n",
    "    href = item.xpath(\".//a/img/@src\")[0]\n",
    "    title = item.xpath(\".//h4[@class='card-title']/a/text()\")[0]\n",
    "    price = item.xpath(\".//div[@class='card-body']/h5/text()\")[0]\n",
    "    print(href,title, price)"
   ]
  },
  {
   "cell_type": "code",
   "execution_count": null,
   "id": "f8c12e90",
   "metadata": {},
   "outputs": [],
   "source": []
  },
  {
   "cell_type": "code",
   "execution_count": 55,
   "id": "404f46e8",
   "metadata": {},
   "outputs": [],
   "source": [
    "resp_2 = requests.get('https://scrapingclub.com/exercise/list_basic_detail/90008-E/')"
   ]
  },
  {
   "cell_type": "code",
   "execution_count": 56,
   "id": "b17fcb3e",
   "metadata": {},
   "outputs": [],
   "source": [
    "root_2 = html.fromstring(resp_2.content)"
   ]
  },
  {
   "cell_type": "code",
   "execution_count": 58,
   "id": "2b43203c",
   "metadata": {},
   "outputs": [
    {
     "data": {
      "text/plain": [
       "['Short Dress']"
      ]
     },
     "execution_count": 58,
     "metadata": {},
     "output_type": "execute_result"
    }
   ],
   "source": [
    "root_2.xpath('//div[@class=\"card-body\"]/h3/text()')"
   ]
  },
  {
   "cell_type": "code",
   "execution_count": 59,
   "id": "037965cb",
   "metadata": {},
   "outputs": [
    {
     "data": {
      "text/plain": [
       "['$24.99']"
      ]
     },
     "execution_count": 59,
     "metadata": {},
     "output_type": "execute_result"
    }
   ],
   "source": [
    "root_2.xpath('//div[@class=\"card-body\"]/h4/text()')"
   ]
  },
  {
   "cell_type": "code",
   "execution_count": 60,
   "id": "3cb24afa",
   "metadata": {
    "scrolled": true
   },
   "outputs": [
    {
     "data": {
      "text/plain": [
       "['Short dress in woven fabric. Round neckline and opening at back of neck with a button. Yoke at back with concealed pleats, long sleeves, and narrow cuffs with ties. Side pockets. 100% polyester. Machine wash cold.',\n",
       " '\\n      ',\n",
       " '\\n      ',\n",
       " 'Web scraping using XPath or CSS expression',\n",
       " '\\n      ',\n",
       " '\\n      ',\n",
       " 'Load JSON string and extract data',\n",
       " '\\n      ',\n",
       " '\\n      ',\n",
       " 'Not only crawl products but also handle pagination',\n",
       " '\\n      ',\n",
       " '\\n      ',\n",
       " 'Inspect Ajax requests and mimic them',\n",
       " '\\n      ',\n",
       " '\\n      ',\n",
       " 'Learn to inspect the fields of HTTP request',\n",
       " '\\n      ',\n",
       " '\\n      ',\n",
       " 'Learn to scrape infinite scrolling pages',\n",
       " '\\n      ',\n",
       " '\\n      ',\n",
       " 'Make your spider can work with the cookie',\n",
       " '\\n      ',\n",
       " '\\n      ',\n",
       " 'Scrape data behind login form',\n",
       " '\\n      ',\n",
       " '\\n      ',\n",
       " 'Learn to scrape data behind a captcha',\n",
       " '\\n      ',\n",
       " '\\n      ',\n",
       " 'Learn how to analyze minimized or compressed javascript']"
      ]
     },
     "execution_count": 60,
     "metadata": {},
     "output_type": "execute_result"
    }
   ],
   "source": [
    "root_2.xpath('//div[@class=\"card-body\"]/p/text()')"
   ]
  },
  {
   "cell_type": "code",
   "execution_count": 61,
   "id": "e400981e",
   "metadata": {},
   "outputs": [
    {
     "data": {
      "text/plain": [
       "['/static/img/90008-E.jpg']"
      ]
     },
     "execution_count": 61,
     "metadata": {},
     "output_type": "execute_result"
    }
   ],
   "source": [
    "root_2.xpath('//img[contains(@class, \"card-img-top\")]/@src')"
   ]
  },
  {
   "cell_type": "code",
   "execution_count": null,
   "id": "95a57ee4",
   "metadata": {},
   "outputs": [],
   "source": []
  }
 ],
 "metadata": {
  "kernelspec": {
   "display_name": "Python 3 (ipykernel)",
   "language": "python",
   "name": "python3"
  },
  "language_info": {
   "codemirror_mode": {
    "name": "ipython",
    "version": 3
   },
   "file_extension": ".py",
   "mimetype": "text/x-python",
   "name": "python",
   "nbconvert_exporter": "python",
   "pygments_lexer": "ipython3",
   "version": "3.9.7"
  }
 },
 "nbformat": 4,
 "nbformat_minor": 5
}
